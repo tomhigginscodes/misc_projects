{
 "cells": [
  {
   "cell_type": "markdown",
   "metadata": {},
   "source": [
    "# Lottery Project - What Is The Chance of Winning"
   ]
  },
  {
   "cell_type": "markdown",
   "metadata": {},
   "source": [
    "## Table of Contents <a name=\"toc\"></a>\n",
    "<ul>\n",
    "    <li><a href=\"#odds\">Odds and Probability</a></li>\n",
    "    <li><a href=\"#source\">What Odds Do The National Lottery Claim?</a></li>\n",
    "    <li><a href=\"#derived\">Deriving The Odds Arithmetically</a></li>\n",
    "</ul>"
   ]
  },
  {
   "cell_type": "markdown",
   "metadata": {},
   "source": [
    "## Odds and Probability <a name=\"odds\"></a>\n",
    "Whilst both *odds* and *probability* mean the same thing to a layman, a statistician and a gambler will tell you they are not.\n",
    "\n",
    "Without getting to deep into it the basic difference is\n",
    "<ul>\n",
    "    <li>A probability is a decimal value $0 \\leq p \\leq 1$. If we add up the probability for each possible outcomes of an event, the sum is one.</li>\n",
    "    <li>The odds of an event is, on average, how many times the event occurs compared to how times it doesn't.</li>\n",
    "</ul>"
   ]
  },
  {
   "cell_type": "markdown",
   "metadata": {},
   "source": [
    "The National Lottery site gives the odds for each prize winning outcome, this may be easy for a gambler to parse, but I'd argue its easier for a statistician to understand it in terms off the probability.\n",
    "\n",
    "The first thing we're going to do is understand how to transform one into the other. The odds is the ratio of the probability of the event occurring and the probability of it not occurring. Luckily, as the probabilities of all outcomes sum to $1$, if the probability of an event occurring is $p$ then the probability of an event not occurring is $1 - p$. Thus\n",
    "\\begin{equation}\n",
    "\\mathrm{odds} = \\frac{\\mathrm{probability}}{1 - \\mathrm{probability}}. \\notag\n",
    "\\end{equation}\n",
    "With a little manipulating, we obtain the reverse formula\n",
    "\\begin{equation}\n",
    "\\mathrm{probability} = \\frac{\\mathrm{odds}}{1 + \\mathrm{odds}}. \\notag\n",
    "\\end{equation}"
   ]
  },
  {
   "cell_type": "markdown",
   "metadata": {},
   "source": [
    "We can write some simple Python functions to handle the conversion between the two."
   ]
  },
  {
   "cell_type": "code",
   "execution_count": 99,
   "metadata": {},
   "outputs": [],
   "source": [
    "def prob_to_odds(prob):\n",
    "    return prob / (1 - prob)"
   ]
  },
  {
   "cell_type": "markdown",
   "metadata": {},
   "source": [
    "As a test, we know the probability of rolling a six on a perfect die is $1/6$, so we expect the odds to be\n",
    "\\begin{equation}\n",
    "\\mathrm{odds} = \\frac{\\frac{1}{6}}{1 - \\frac{1}{6}} = \\frac{1}{5}. \\notag \\\\\n",
    "\\end{equation}"
   ]
  },
  {
   "cell_type": "code",
   "execution_count": 100,
   "metadata": {},
   "outputs": [
    {
     "data": {
      "text/plain": [
       "0.2"
      ]
     },
     "execution_count": 100,
     "metadata": {},
     "output_type": "execute_result"
    }
   ],
   "source": [
    "round(prob_to_odds(1/6), 4)"
   ]
  },
  {
   "cell_type": "markdown",
   "metadata": {},
   "source": [
    "That's kinda useful, we know $0.2 = 1/5$. But when it we get more complicated odds, we want to be able to read them easier. We can use the fractions module to return the decimal odds as a fraction."
   ]
  },
  {
   "cell_type": "code",
   "execution_count": 101,
   "metadata": {},
   "outputs": [
    {
     "data": {
      "text/plain": [
       "Fraction(7205759403792793, 36028797018963968)"
      ]
     },
     "execution_count": 101,
     "metadata": {},
     "output_type": "execute_result"
    }
   ],
   "source": [
    "import fractions\n",
    "fractions.Fraction(prob_to_odds(1/6))"
   ]
  },
  {
   "cell_type": "markdown",
   "metadata": {},
   "source": [
    "That's made things worse! Ideally, we want a unit fraction, that is a fraction with one in the numerator. If we divide the number by itself, we get one. To ensure the fraction has the same value we also need to divide the denominator by the numerator as well."
   ]
  },
  {
   "cell_type": "code",
   "execution_count": 111,
   "metadata": {},
   "outputs": [
    {
     "data": {
      "text/plain": [
       "[1, 5.0]"
      ]
     },
     "execution_count": 111,
     "metadata": {},
     "output_type": "execute_result"
    }
   ],
   "source": [
    "def unit_fraction(decimal):\n",
    "    return [1, 1 / decimal]\n",
    "\n",
    "unit_fraction(prob_to_odds(1/6))"
   ]
  },
  {
   "cell_type": "markdown",
   "metadata": {},
   "source": [
    "The result is now much simpler to understand. Now to turn our attention to turning an odds into a probability. We know to expect $p = 1/6 = 0.1\\overline{6}$ if we pass in the odds of rolling a six on a fair die."
   ]
  },
  {
   "cell_type": "code",
   "execution_count": 113,
   "metadata": {},
   "outputs": [
    {
     "data": {
      "text/plain": [
       "0.1667"
      ]
     },
     "execution_count": 113,
     "metadata": {},
     "output_type": "execute_result"
    }
   ],
   "source": [
    "def odds_to_prob(odds):\n",
    "    return odds / (1 + odds)\n",
    "\n",
    "round(odds_to_prob(1/5), 4)"
   ]
  },
  {
   "cell_type": "markdown",
   "metadata": {},
   "source": [
    "That's good, though for the sake of automation we'll also allow our function to take the list from *prob_to_odds()* then check it works for each argument type. We could do further type-checking obviously, we as this is just for this document we'll leave it at that."
   ]
  },
  {
   "cell_type": "code",
   "execution_count": 114,
   "metadata": {},
   "outputs": [
    {
     "name": "stdout",
     "output_type": "stream",
     "text": [
      "By fraction - 0.1667.\n",
      "By list - 0.1667.\n"
     ]
    }
   ],
   "source": [
    "def odds_to_prob(odds):\n",
    "    if type(odds) == list:\n",
    "        odds = odds[0] / odds[1]\n",
    "\n",
    "    return odds / (1 + odds)\n",
    "\n",
    "print(f'By fraction - {round(odds_to_prob(1/5), 4)}.')\n",
    "print(f'By list - {round(odds_to_prob(prob_to_odds(1/6)), 4)}.')"
   ]
  },
  {
   "cell_type": "markdown",
   "metadata": {},
   "source": [
    "[Table of Contents](#toc)"
   ]
  },
  {
   "cell_type": "markdown",
   "metadata": {},
   "source": [
    "## What Odds Do The National Lottery Claim? <a name=\"source\"></a>\n",
    "First, we can look at what the National Lottery claims the probability of each prize is, and the overall probability of winning a prize.\n",
    "\n",
    "| Prize | Odds <img width=100>| Prize |\n",
    "|:---|:---|:---|\n",
    "| Jackpot (Six Balls) | $1:45,057,474$ | A Share of $9.79\\%$ of Sales or at least $£1,000,000$ |\n",
    "| Five + Bonus Ball | $1:7,509,579$ | $£1,000,000$ |\n",
    "| Five Balls | $1:144,415$ | $£1,750$ |\n",
    "| Four Balls | $1:2,180$ | $£140$ |\n",
    "| Three Balls | $1:96.2$ | $£30$ |\n",
    "| Two Balls | $1:10.3$ | Free lucky dip, worth $£2$ |\n",
    "| Any Prize | $1:9.3$ | |"
   ]
  },
  {
   "cell_type": "markdown",
   "metadata": {},
   "source": [
    "We'll perform our working in a pandas DataFrame for ease of seeing each step. First we obtain a DataFrame with the odds as a decimal."
   ]
  },
  {
   "cell_type": "code",
   "execution_count": 200,
   "metadata": {},
   "outputs": [
    {
     "data": {
      "text/html": [
       "<div>\n",
       "<style scoped>\n",
       "    .dataframe tbody tr th:only-of-type {\n",
       "        vertical-align: middle;\n",
       "    }\n",
       "\n",
       "    .dataframe tbody tr th {\n",
       "        vertical-align: top;\n",
       "    }\n",
       "\n",
       "    .dataframe thead th {\n",
       "        text-align: right;\n",
       "    }\n",
       "</style>\n",
       "<table border=\"1\" class=\"dataframe\">\n",
       "  <thead>\n",
       "    <tr style=\"text-align: right;\">\n",
       "      <th></th>\n",
       "      <th>raw_odds</th>\n",
       "    </tr>\n",
       "  </thead>\n",
       "  <tbody>\n",
       "    <tr>\n",
       "      <th>six</th>\n",
       "      <td>2.219388e-08</td>\n",
       "    </tr>\n",
       "    <tr>\n",
       "      <th>bonus</th>\n",
       "      <td>1.331633e-07</td>\n",
       "    </tr>\n",
       "    <tr>\n",
       "      <th>five</th>\n",
       "      <td>6.924488e-06</td>\n",
       "    </tr>\n",
       "    <tr>\n",
       "      <th>four</th>\n",
       "      <td>4.587156e-04</td>\n",
       "    </tr>\n",
       "    <tr>\n",
       "      <th>three</th>\n",
       "      <td>1.039501e-02</td>\n",
       "    </tr>\n",
       "    <tr>\n",
       "      <th>two</th>\n",
       "      <td>9.708738e-02</td>\n",
       "    </tr>\n",
       "  </tbody>\n",
       "</table>\n",
       "</div>"
      ],
      "text/plain": [
       "           raw_odds\n",
       "six    2.219388e-08\n",
       "bonus  1.331633e-07\n",
       "five   6.924488e-06\n",
       "four   4.587156e-04\n",
       "three  1.039501e-02\n",
       "two    9.708738e-02"
      ]
     },
     "execution_count": 200,
     "metadata": {},
     "output_type": "execute_result"
    }
   ],
   "source": [
    "import pandas as pd\n",
    "\n",
    "raw_odds = {'six': 1/45057474,\n",
    "        'bonus': 1/7509579,\n",
    "        'five': 1/144415,\n",
    "        'four': 1/2180,\n",
    "        'three': 1/96.2,\n",
    "        'two': 1/10.3}\n",
    "\n",
    "df = pd.DataFrame(odds, index=['raw_odds']).T\n",
    "df"
   ]
  },
  {
   "cell_type": "markdown",
   "metadata": {},
   "source": [
    "Then we use our *unit_fraction()* function to convert the decimal odds to human-readable odds."
   ]
  },
  {
   "cell_type": "code",
   "execution_count": 201,
   "metadata": {
    "scrolled": false
   },
   "outputs": [
    {
     "data": {
      "text/html": [
       "<div>\n",
       "<style scoped>\n",
       "    .dataframe tbody tr th:only-of-type {\n",
       "        vertical-align: middle;\n",
       "    }\n",
       "\n",
       "    .dataframe tbody tr th {\n",
       "        vertical-align: top;\n",
       "    }\n",
       "\n",
       "    .dataframe thead th {\n",
       "        text-align: right;\n",
       "    }\n",
       "</style>\n",
       "<table border=\"1\" class=\"dataframe\">\n",
       "  <thead>\n",
       "    <tr style=\"text-align: right;\">\n",
       "      <th></th>\n",
       "      <th>raw_odds</th>\n",
       "      <th>odds</th>\n",
       "    </tr>\n",
       "  </thead>\n",
       "  <tbody>\n",
       "    <tr>\n",
       "      <th>six</th>\n",
       "      <td>2.219388e-08</td>\n",
       "      <td>1/45057474.0</td>\n",
       "    </tr>\n",
       "    <tr>\n",
       "      <th>bonus</th>\n",
       "      <td>1.331633e-07</td>\n",
       "      <td>1/7509579.0</td>\n",
       "    </tr>\n",
       "    <tr>\n",
       "      <th>five</th>\n",
       "      <td>6.924488e-06</td>\n",
       "      <td>1/144415.0</td>\n",
       "    </tr>\n",
       "    <tr>\n",
       "      <th>four</th>\n",
       "      <td>4.587156e-04</td>\n",
       "      <td>1/2180.0</td>\n",
       "    </tr>\n",
       "    <tr>\n",
       "      <th>three</th>\n",
       "      <td>1.039501e-02</td>\n",
       "      <td>1/96.2</td>\n",
       "    </tr>\n",
       "    <tr>\n",
       "      <th>two</th>\n",
       "      <td>9.708738e-02</td>\n",
       "      <td>1/10.3</td>\n",
       "    </tr>\n",
       "  </tbody>\n",
       "</table>\n",
       "</div>"
      ],
      "text/plain": [
       "           raw_odds          odds\n",
       "six    2.219388e-08  1/45057474.0\n",
       "bonus  1.331633e-07   1/7509579.0\n",
       "five   6.924488e-06    1/144415.0\n",
       "four   4.587156e-04      1/2180.0\n",
       "three  1.039501e-02        1/96.2\n",
       "two    9.708738e-02        1/10.3"
      ]
     },
     "execution_count": 201,
     "metadata": {},
     "output_type": "execute_result"
    }
   ],
   "source": [
    "df['odds'] = 0\n",
    "for i in df.index:\n",
    "    df.loc[i, 'odds'] = '1/' + str(round(unit_fraction(df.loc[i, 'raw_odds'])[1], 1))\n",
    "df"
   ]
  },
  {
   "cell_type": "markdown",
   "metadata": {},
   "source": [
    "Finally, we use our *odds_to_prob()* function to convert the *raw_odds* into probabilities."
   ]
  },
  {
   "cell_type": "code",
   "execution_count": 202,
   "metadata": {},
   "outputs": [
    {
     "data": {
      "text/html": [
       "<div>\n",
       "<style scoped>\n",
       "    .dataframe tbody tr th:only-of-type {\n",
       "        vertical-align: middle;\n",
       "    }\n",
       "\n",
       "    .dataframe tbody tr th {\n",
       "        vertical-align: top;\n",
       "    }\n",
       "\n",
       "    .dataframe thead th {\n",
       "        text-align: right;\n",
       "    }\n",
       "</style>\n",
       "<table border=\"1\" class=\"dataframe\">\n",
       "  <thead>\n",
       "    <tr style=\"text-align: right;\">\n",
       "      <th></th>\n",
       "      <th>raw_odds</th>\n",
       "      <th>odds</th>\n",
       "      <th>prob</th>\n",
       "    </tr>\n",
       "  </thead>\n",
       "  <tbody>\n",
       "    <tr>\n",
       "      <th>six</th>\n",
       "      <td>2.219388e-08</td>\n",
       "      <td>1/45057474.0</td>\n",
       "      <td>2.219388e-08</td>\n",
       "    </tr>\n",
       "    <tr>\n",
       "      <th>bonus</th>\n",
       "      <td>1.331633e-07</td>\n",
       "      <td>1/7509579.0</td>\n",
       "      <td>1.331632e-07</td>\n",
       "    </tr>\n",
       "    <tr>\n",
       "      <th>five</th>\n",
       "      <td>6.924488e-06</td>\n",
       "      <td>1/144415.0</td>\n",
       "      <td>6.924441e-06</td>\n",
       "    </tr>\n",
       "    <tr>\n",
       "      <th>four</th>\n",
       "      <td>4.587156e-04</td>\n",
       "      <td>1/2180.0</td>\n",
       "      <td>4.585053e-04</td>\n",
       "    </tr>\n",
       "    <tr>\n",
       "      <th>three</th>\n",
       "      <td>1.039501e-02</td>\n",
       "      <td>1/96.2</td>\n",
       "      <td>1.028807e-02</td>\n",
       "    </tr>\n",
       "    <tr>\n",
       "      <th>two</th>\n",
       "      <td>9.708738e-02</td>\n",
       "      <td>1/10.3</td>\n",
       "      <td>8.849558e-02</td>\n",
       "    </tr>\n",
       "  </tbody>\n",
       "</table>\n",
       "</div>"
      ],
      "text/plain": [
       "           raw_odds          odds          prob\n",
       "six    2.219388e-08  1/45057474.0  2.219388e-08\n",
       "bonus  1.331633e-07   1/7509579.0  1.331632e-07\n",
       "five   6.924488e-06    1/144415.0  6.924441e-06\n",
       "four   4.587156e-04      1/2180.0  4.585053e-04\n",
       "three  1.039501e-02        1/96.2  1.028807e-02\n",
       "two    9.708738e-02        1/10.3  8.849558e-02"
      ]
     },
     "execution_count": 202,
     "metadata": {},
     "output_type": "execute_result"
    }
   ],
   "source": [
    "df['prob'] = odds_to_prob(df['raw_odds'])\n",
    "df"
   ]
  },
  {
   "cell_type": "markdown",
   "metadata": {},
   "source": [
    "As an aside - we notice an interesting trend immediately. The smaller the odds and probability, the smaller the difference between the odds and probability. This is because, for very small $p$\n",
    "\\begin{equation}\n",
    "\\mathrm{odds} = \\frac{\\mathrm{probability}}{1 - \\mathrm{probability}}\n",
    "\\simeq \\frac{\\mathrm{probability}}{1}. \\notag\n",
    "\\end{equation}\n",
    "\n",
    "[Table of Contents](#toc)"
   ]
  },
  {
   "cell_type": "markdown",
   "metadata": {},
   "source": [
    "## Deriving Our Odds Arithmetically <a name=\"derived\"></a>\n",
    "The most simple way of calculating the probability of winning the jackpot is to consider that we need to match six chosen numbers to six balls drawn from a possible fifty-nine. We can start by calculating the probability that the ball drawn matches one of our six chosen numbers - this is a six in fifty-nine chance, order of the draw doesn't matter.\n",
    "\\begin{equation}\n",
    "p(\\mathrm{matching~one~of~six~numbers}) = \\frac{6}{59} \\simeq 0.102. \\notag\n",
    "\\end{equation}\n",
    "\n",
    "We are then looking to match one of our remaining five numbers to one the fifty-eight remaining balls.\n",
    "\\begin{equation}\n",
    "p(\\mathrm{matching~one~of~five~numbers}) = \\frac{5}{58} \\simeq 0.086. \\notag\n",
    "\\end{equation}\n",
    "\n",
    "We repeat the pattern until we have accounted for all six draws. The probability of one event happening after the other is the product of all the probabilities,\n",
    "\\begin{align}\n",
    "p(\\mathrm{matching~six~numbers})\n",
    "& = \\frac{6}{59} \\times \\frac{5}{58} \\times \\frac{4}{57}\n",
    "\\times \\frac{3}{56} \\times \\frac{2}{55} \\times \\frac{1}{54} \\notag \\\\\n",
    "& = \\frac{720}{32441381280} \\notag \\\\\n",
    "& \\simeq 2.219 \\times 10^{-8}. \\notag\n",
    "\\end{align}"
   ]
  },
  {
   "cell_type": "code",
   "execution_count": 203,
   "metadata": {},
   "outputs": [
    {
     "name": "stdout",
     "output_type": "stream",
     "text": [
      "The probability of drawing six matching numbers is 2.2193876203535066e-08.\n",
      "The odds of drawing six matching numbers are [1, 45057473.00000001].\n"
     ]
    }
   ],
   "source": [
    "p_6 = (6/59) * (5/58) * (4/57) *(3/56) * (2/55) * (1/54)\n",
    "print(f'The probability of drawing six matching numbers is {p_6}.')\n",
    "print(f'The odds of drawing six matching numbers are {unit_fraction(prob_to_odds(p_6))}.')"
   ]
  },
  {
   "cell_type": "markdown",
   "metadata": {},
   "source": [
    "We can see that the probability and odds obtained by our method match, or are close enough, to those from the National Lottery website. The difference can be accounted by rounding errors.\n",
    "\n",
    "We can also notice a pattern - the numerator of the fraction can be written as $6!$, or six-factorial. Further, in the denominator we are multiplying from $59$ to $54$, and this can be written as $59!$ divided by $(59 - 6)!$. Therefore, a shorter formula is\n",
    "\\begin{equation}\n",
    "p(\\mathrm{matching~six~numbers})\n",
    "= \\frac{6!}{59!(59 - 6)!}. \\notag\n",
    "\\end{equation}\n",
    "\n",
    "This looks familiar, in fact if we jiggle a little bit we have\n",
    "\\begin{equation}\n",
    "p(\\mathrm{matching~six~numbers})\n",
    "= \\frac{6! \\big((59 - 6)! \\big)^{-1}}{59!}, \\notag\n",
    "\\end{equation}\n",
    "which is the reciprocal of the binomial coefficient, sometimes called from $n$ choose $k$ as it describes the number of ways to choose $k$ items from a set of $n$ items without repetition. The formula for the binomial coefficient is\n",
    "\\begin{equation}\n",
    "\\begin{pmatrix} n \\\\ k \\end{pmatrix}\n",
    "= \\frac{n!}{k!(n - k)!}, \\notag\n",
    "\\end{equation}\n",
    "And we can write\n",
    "\\begin{align}\n",
    "\\frac{1}{p(\\mathrm{matching~six~numbers~of~59~possibilities})}\n",
    "= \\frac{59!}{6!(59 - 6)!}, \\notag \\\\\n",
    "\\frac{1}{p(\\mathrm{matching~}k\\mathrm{~numbers~of}n\\mathrm{~possibilities})}\n",
    "= \\frac{n!}{k!(n - k)!}. \\notag\n",
    "\\end{align}"
   ]
  },
  {
   "cell_type": "markdown",
   "metadata": {},
   "source": [
    "We can see that the derived probability from the odds ration provided by the national lottery, and the probability derived from the binomial coefficient are similar to seven significant figures."
   ]
  },
  {
   "cell_type": "code",
   "execution_count": 215,
   "metadata": {},
   "outputs": [
    {
     "name": "stdout",
     "output_type": "stream",
     "text": [
      "2.2193875710966934e-08\n",
      "2.2193875710966934e-08\n",
      "2.2193876203535066e-08\n",
      "2.2193876203535066e-08\n"
     ]
    }
   ],
   "source": [
    "import scipy.special as special\n",
    "\n",
    "print(df.loc['six','prob'])\n",
    "print( (1 / special.comb(59, 6)) / (1 + ( 1 / special.comb(59, 6))))\n",
    "\n",
    "print(df.loc['six','raw_odds'])\n",
    "print(1 / special.comb(59, 6))"
   ]
  },
  {
   "cell_type": "code",
   "execution_count": null,
   "metadata": {},
   "outputs": [],
   "source": []
  }
 ],
 "metadata": {
  "kernelspec": {
   "display_name": "Python 3",
   "language": "python",
   "name": "python3"
  },
  "language_info": {
   "codemirror_mode": {
    "name": "ipython",
    "version": 3
   },
   "file_extension": ".py",
   "mimetype": "text/x-python",
   "name": "python",
   "nbconvert_exporter": "python",
   "pygments_lexer": "ipython3",
   "version": "3.7.1"
  }
 },
 "nbformat": 4,
 "nbformat_minor": 4
}
